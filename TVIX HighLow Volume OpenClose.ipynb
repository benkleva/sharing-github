{
 "cells": [
  {
   "cell_type": "code",
   "execution_count": 137,
   "metadata": {},
   "outputs": [],
   "source": [
    "import pandas as pd\n",
    "import numpy as np\n",
    "from matplotlib import pyplot as plt"
   ]
  },
  {
   "cell_type": "code",
   "execution_count": 138,
   "metadata": {},
   "outputs": [],
   "source": [
    "tvix= pd.read_csv('tvix_open_close.csv')"
   ]
  },
  {
   "cell_type": "code",
   "execution_count": 139,
   "metadata": {},
   "outputs": [
    {
     "data": {
      "text/html": [
       "<div>\n",
       "<style scoped>\n",
       "    .dataframe tbody tr th:only-of-type {\n",
       "        vertical-align: middle;\n",
       "    }\n",
       "\n",
       "    .dataframe tbody tr th {\n",
       "        vertical-align: top;\n",
       "    }\n",
       "\n",
       "    .dataframe thead th {\n",
       "        text-align: right;\n",
       "    }\n",
       "</style>\n",
       "<table border=\"1\" class=\"dataframe\">\n",
       "  <thead>\n",
       "    <tr style=\"text-align: right;\">\n",
       "      <th></th>\n",
       "      <th>Date</th>\n",
       "      <th>Open</th>\n",
       "      <th>Close</th>\n",
       "      <th>Adj Close</th>\n",
       "      <th>High</th>\n",
       "      <th>Low</th>\n",
       "      <th>Volume</th>\n",
       "    </tr>\n",
       "  </thead>\n",
       "  <tbody>\n",
       "    <tr>\n",
       "      <th>0</th>\n",
       "      <td>4/10/2019</td>\n",
       "      <td>249.000000</td>\n",
       "      <td>240.500000</td>\n",
       "      <td>240.500000</td>\n",
       "      <td>253.500000</td>\n",
       "      <td>240.000000</td>\n",
       "      <td>15745400</td>\n",
       "    </tr>\n",
       "    <tr>\n",
       "      <th>1</th>\n",
       "      <td>4/11/2019</td>\n",
       "      <td>236.399994</td>\n",
       "      <td>231.500000</td>\n",
       "      <td>231.500000</td>\n",
       "      <td>239.300003</td>\n",
       "      <td>231.000000</td>\n",
       "      <td>17986100</td>\n",
       "    </tr>\n",
       "    <tr>\n",
       "      <th>2</th>\n",
       "      <td>4/12/2019</td>\n",
       "      <td>222.100006</td>\n",
       "      <td>210.399994</td>\n",
       "      <td>210.399994</td>\n",
       "      <td>222.800003</td>\n",
       "      <td>209.899994</td>\n",
       "      <td>17172500</td>\n",
       "    </tr>\n",
       "    <tr>\n",
       "      <th>3</th>\n",
       "      <td>4/15/2019</td>\n",
       "      <td>205.000000</td>\n",
       "      <td>204.500000</td>\n",
       "      <td>204.500000</td>\n",
       "      <td>220.600006</td>\n",
       "      <td>203.600006</td>\n",
       "      <td>19116600</td>\n",
       "    </tr>\n",
       "    <tr>\n",
       "      <th>4</th>\n",
       "      <td>4/16/2019</td>\n",
       "      <td>201.699997</td>\n",
       "      <td>200.699997</td>\n",
       "      <td>200.699997</td>\n",
       "      <td>203.300003</td>\n",
       "      <td>196.800003</td>\n",
       "      <td>14664300</td>\n",
       "    </tr>\n",
       "    <tr>\n",
       "      <th>...</th>\n",
       "      <td>...</td>\n",
       "      <td>...</td>\n",
       "      <td>...</td>\n",
       "      <td>...</td>\n",
       "      <td>...</td>\n",
       "      <td>...</td>\n",
       "      <td>...</td>\n",
       "    </tr>\n",
       "    <tr>\n",
       "      <th>248</th>\n",
       "      <td>4/3/2020</td>\n",
       "      <td>321.549988</td>\n",
       "      <td>299.010010</td>\n",
       "      <td>299.010010</td>\n",
       "      <td>332.429993</td>\n",
       "      <td>292.480011</td>\n",
       "      <td>2605200</td>\n",
       "    </tr>\n",
       "    <tr>\n",
       "      <th>249</th>\n",
       "      <td>4/6/2020</td>\n",
       "      <td>255.729996</td>\n",
       "      <td>256.609985</td>\n",
       "      <td>256.609985</td>\n",
       "      <td>268.000000</td>\n",
       "      <td>247.419998</td>\n",
       "      <td>1862400</td>\n",
       "    </tr>\n",
       "    <tr>\n",
       "      <th>250</th>\n",
       "      <td>4/7/2020</td>\n",
       "      <td>241.000000</td>\n",
       "      <td>270.200012</td>\n",
       "      <td>270.200012</td>\n",
       "      <td>274.709991</td>\n",
       "      <td>239.050003</td>\n",
       "      <td>3435800</td>\n",
       "    </tr>\n",
       "    <tr>\n",
       "      <th>251</th>\n",
       "      <td>4/8/2020</td>\n",
       "      <td>265.230011</td>\n",
       "      <td>258.869995</td>\n",
       "      <td>258.869995</td>\n",
       "      <td>274.899994</td>\n",
       "      <td>252.360001</td>\n",
       "      <td>2254800</td>\n",
       "    </tr>\n",
       "    <tr>\n",
       "      <th>252</th>\n",
       "      <td>4/9/2020</td>\n",
       "      <td>255.000000</td>\n",
       "      <td>249.000000</td>\n",
       "      <td>249.000000</td>\n",
       "      <td>263.859985</td>\n",
       "      <td>246.509995</td>\n",
       "      <td>2520953</td>\n",
       "    </tr>\n",
       "  </tbody>\n",
       "</table>\n",
       "<p>253 rows × 7 columns</p>\n",
       "</div>"
      ],
      "text/plain": [
       "          Date        Open       Close   Adj Close        High         Low  \\\n",
       "0    4/10/2019  249.000000  240.500000  240.500000  253.500000  240.000000   \n",
       "1    4/11/2019  236.399994  231.500000  231.500000  239.300003  231.000000   \n",
       "2    4/12/2019  222.100006  210.399994  210.399994  222.800003  209.899994   \n",
       "3    4/15/2019  205.000000  204.500000  204.500000  220.600006  203.600006   \n",
       "4    4/16/2019  201.699997  200.699997  200.699997  203.300003  196.800003   \n",
       "..         ...         ...         ...         ...         ...         ...   \n",
       "248   4/3/2020  321.549988  299.010010  299.010010  332.429993  292.480011   \n",
       "249   4/6/2020  255.729996  256.609985  256.609985  268.000000  247.419998   \n",
       "250   4/7/2020  241.000000  270.200012  270.200012  274.709991  239.050003   \n",
       "251   4/8/2020  265.230011  258.869995  258.869995  274.899994  252.360001   \n",
       "252   4/9/2020  255.000000  249.000000  249.000000  263.859985  246.509995   \n",
       "\n",
       "       Volume  \n",
       "0    15745400  \n",
       "1    17986100  \n",
       "2    17172500  \n",
       "3    19116600  \n",
       "4    14664300  \n",
       "..        ...  \n",
       "248   2605200  \n",
       "249   1862400  \n",
       "250   3435800  \n",
       "251   2254800  \n",
       "252   2520953  \n",
       "\n",
       "[253 rows x 7 columns]"
      ]
     },
     "execution_count": 139,
     "metadata": {},
     "output_type": "execute_result"
    }
   ],
   "source": [
    "tvix"
   ]
  },
  {
   "cell_type": "markdown",
   "metadata": {},
   "source": [
    "# Graph 52 Week Highs/Lows"
   ]
  },
  {
   "cell_type": "code",
   "execution_count": 140,
   "metadata": {},
   "outputs": [
    {
     "data": {
      "text/plain": [
       "0      1.000000\n",
       "1      0.943984\n",
       "2      0.878895\n",
       "3      0.870217\n",
       "4      0.801972\n",
       "         ...   \n",
       "248    1.311361\n",
       "249    1.057199\n",
       "250    1.083669\n",
       "251    1.084418\n",
       "252    1.040868\n",
       "Name: High, Length: 253, dtype: float64"
      ]
     },
     "execution_count": 140,
     "metadata": {},
     "output_type": "execute_result"
    }
   ],
   "source": [
    "tvix.High / tvix.High.iloc[0]"
   ]
  },
  {
   "cell_type": "markdown",
   "metadata": {},
   "source": [
    "# #Daily High date 1 to date 253 % increase/decrease"
   ]
  },
  {
   "cell_type": "code",
   "execution_count": 141,
   "metadata": {},
   "outputs": [
    {
     "data": {
      "image/png": "[encoded data removed]",
      "text/plain": [
       "<Figure size 432x288 with 1 Axes>"
      ]
     },
     "metadata": {
      "needs_background": "light"
     },
     "output_type": "display_data"
    }
   ],
   "source": [
    "plt.plot(tvix.High / tvix.High.iloc[0], color= 'green')\n",
    "plt.xlabel('Days 0-253')\n",
    "plt.ylabel('Daily High % +/- (starts at 1.0)')\n",
    "plt.legend(['TVIX'])\n",
    "plt.title('Daily Highs % Change')\n",
    "\n",
    "plt.show()"
   ]
  },
  {
   "cell_type": "markdown",
   "metadata": {},
   "source": [
    "# #Daily Low date 1 to date 253 % increase/decrease"
   ]
  },
  {
   "cell_type": "code",
   "execution_count": 142,
   "metadata": {},
   "outputs": [
    {
     "data": {
      "text/plain": [
       "0      1.000000\n",
       "1      0.962500\n",
       "2      0.874583\n",
       "3      0.848333\n",
       "4      0.820000\n",
       "         ...   \n",
       "248    1.218667\n",
       "249    1.030917\n",
       "250    0.996042\n",
       "251    1.051500\n",
       "252    1.027125\n",
       "Name: Low, Length: 253, dtype: float64"
      ]
     },
     "execution_count": 142,
     "metadata": {},
     "output_type": "execute_result"
    }
   ],
   "source": [
    "tvix.Low / tvix.Low.iloc[0]"
   ]
  },
  {
   "cell_type": "code",
   "execution_count": 143,
   "metadata": {},
   "outputs": [
    {
     "data": {
      "image/png": "[encoded data removed]",
      "text/plain": [
       "<Figure size 432x288 with 1 Axes>"
      ]
     },
     "metadata": {
      "needs_background": "light"
     },
     "output_type": "display_data"
    }
   ],
   "source": [
    "plt.plot(tvix.Low / tvix.Low.iloc[0], color= 'red')\n",
    "plt.xlabel('Days 0-253')\n",
    "plt.ylabel('Daily Low % +/- (starts at 1.0)')\n",
    "plt.legend(['TVIX'])\n",
    "plt.title('Daily Lows % Change')\n",
    "plt.show()"
   ]
  },
  {
   "cell_type": "markdown",
   "metadata": {},
   "source": [
    "#Graphically, we cannot see any real distinction between daily highs and lows.\n",
    "\n",
    "But, we can combine the two plots and see a direct gap between each daily High and low. "
   ]
  },
  {
   "cell_type": "markdown",
   "metadata": {},
   "source": [
    "# #Combine 52 Week Highs and Lows"
   ]
  },
  {
   "cell_type": "code",
   "execution_count": 144,
   "metadata": {},
   "outputs": [
    {
     "data": {
      "image/png": "[encoded data removed]",
      "text/plain": [
       "<Figure size 432x288 with 1 Axes>"
      ]
     },
     "metadata": {
      "needs_background": "light"
     },
     "output_type": "display_data"
    }
   ],
   "source": [
    "plt.plot(tvix.High / tvix.High.iloc[0], color= 'green')\n",
    "plt.plot(tvix.Low / tvix.High.iloc[0], color= 'red')\n",
    "plt.xlabel('Days 0-253')\n",
    "plt.ylabel('Daily % +/- (starts at 1.0)')\n",
    "plt.legend(['TVIX High', 'TVIX Low'])\n",
    "plt.title('% Gap Between Daily Highs and Lows')\n",
    "plt.show()"
   ]
  },
  {
   "cell_type": "markdown",
   "metadata": {},
   "source": [
    "#Take away from days 0-50:\n",
    "Largest gap favors daily high through the fist 25 days, then closes until we hit day 50.\n",
    "\n",
    "#Take away from days 50-100:\n",
    "Largest gap favors daily high again after the 75th day and has one more meaningful seperation before day 100.\n",
    "\n",
    "#Take away from days 100-200:\n",
    "% for both decreases and the gap slightly favors highs then closes completely until day 200.\n",
    "\n",
    "#Take away from days 200-253:\n",
    "This shows the largest rate of growth in both highs and lows. Between this time, the highest percentage gap favors daily highs by 1.5%. "
   ]
  },
  {
   "cell_type": "markdown",
   "metadata": {},
   "source": [
    "# Graph 52 Week Volume"
   ]
  },
  {
   "cell_type": "code",
   "execution_count": 145,
   "metadata": {},
   "outputs": [
    {
     "data": {
      "text/plain": [
       "0      15745400\n",
       "1      17986100\n",
       "2      17172500\n",
       "3      19116600\n",
       "4      14664300\n",
       "         ...   \n",
       "248     2605200\n",
       "249     1862400\n",
       "250     3435800\n",
       "251     2254800\n",
       "252     2520953\n",
       "Name: Volume, Length: 253, dtype: int64"
      ]
     },
     "execution_count": 145,
     "metadata": {},
     "output_type": "execute_result"
    }
   ],
   "source": [
    "tvix.Date\n",
    "tvix.Volume"
   ]
  },
  {
   "cell_type": "code",
   "execution_count": 146,
   "metadata": {},
   "outputs": [],
   "source": [
    "# Show Highest Volume and its date\n",
    "\n",
    "highestvolume= max(tvix.Volume)"
   ]
  },
  {
   "cell_type": "code",
   "execution_count": 147,
   "metadata": {},
   "outputs": [],
   "source": [
    "# Show Lowest Volume and its date\n",
    "\n",
    "lowestvolume= min(tvix.Volume)"
   ]
  },
  {
   "cell_type": "code",
   "execution_count": 148,
   "metadata": {},
   "outputs": [
    {
     "data": {
      "text/plain": [
       "99329200"
      ]
     },
     "execution_count": 148,
     "metadata": {},
     "output_type": "execute_result"
    }
   ],
   "source": [
    "highestvolume"
   ]
  },
  {
   "cell_type": "markdown",
   "metadata": {},
   "source": [
    "#The date for highest volume is 8/23/2019^"
   ]
  },
  {
   "cell_type": "code",
   "execution_count": 149,
   "metadata": {},
   "outputs": [
    {
     "data": {
      "text/plain": [
       "1585500"
      ]
     },
     "execution_count": 149,
     "metadata": {},
     "output_type": "execute_result"
    }
   ],
   "source": [
    "lowestvolume"
   ]
  },
  {
   "cell_type": "markdown",
   "metadata": {},
   "source": [
    "#The date for lowest volume is 12/24/2019^"
   ]
  },
  {
   "cell_type": "code",
   "execution_count": 150,
   "metadata": {},
   "outputs": [
    {
     "data": {
      "image/png": "[encoded data removed]",
      "text/plain": [
       "<Figure size 432x288 with 1 Axes>"
      ]
     },
     "metadata": {
      "needs_background": "light"
     },
     "output_type": "display_data"
    }
   ],
   "source": [
    "# Plot each day's volume.\n",
    "\n",
    "plt.plot(tvix.Volume, color= 'orange')\n",
    "plt.xlabel('Days 0-253')\n",
    "plt.ylabel('Daily +/- (1.0 = 100Mill)')\n",
    "plt.legend(['TVIX'])\n",
    "plt.title('Daily Volume')\n",
    "plt.show()"
   ]
  },
  {
   "cell_type": "markdown",
   "metadata": {},
   "source": [
    "# Graph 52 Week Opens and Closes"
   ]
  },
  {
   "cell_type": "code",
   "execution_count": 151,
   "metadata": {},
   "outputs": [
    {
     "data": {
      "text/plain": [
       "0      249.000000\n",
       "1      236.399994\n",
       "2      222.100006\n",
       "3      205.000000\n",
       "4      201.699997\n",
       "          ...    \n",
       "248    321.549988\n",
       "249    255.729996\n",
       "250    241.000000\n",
       "251    265.230011\n",
       "252    255.000000\n",
       "Name: Open, Length: 253, dtype: float64"
      ]
     },
     "execution_count": 151,
     "metadata": {},
     "output_type": "execute_result"
    }
   ],
   "source": [
    "tvix.Date\n",
    "tvix.Open"
   ]
  },
  {
   "cell_type": "code",
   "execution_count": 152,
   "metadata": {},
   "outputs": [
    {
     "data": {
      "text/plain": [
       "0      240.500000\n",
       "1      231.500000\n",
       "2      210.399994\n",
       "3      204.500000\n",
       "4      200.699997\n",
       "          ...    \n",
       "248    299.010010\n",
       "249    256.609985\n",
       "250    270.200012\n",
       "251    258.869995\n",
       "252    249.000000\n",
       "Name: Close, Length: 253, dtype: float64"
      ]
     },
     "execution_count": 152,
     "metadata": {},
     "output_type": "execute_result"
    }
   ],
   "source": [
    "tvix.Date\n",
    "tvix.Close"
   ]
  },
  {
   "cell_type": "code",
   "execution_count": null,
   "metadata": {},
   "outputs": [],
   "source": []
  },
  {
   "cell_type": "code",
   "execution_count": 169,
   "metadata": {},
   "outputs": [],
   "source": [
    "x_coordinates = [0, 250]\n",
    "y_coordinates = [0, 0]"
   ]
  },
  {
   "cell_type": "code",
   "execution_count": 187,
   "metadata": {},
   "outputs": [
    {
     "data": {
      "image/png": "[encoded data removed]",
      "text/plain": [
       "<Figure size 432x288 with 1 Axes>"
      ]
     },
     "metadata": {
      "needs_background": "light"
     },
     "output_type": "display_data"
    }
   ],
   "source": [
    "plt.ylim(-1.0,1.0)\n",
    "plt.plot(tvix.Open - tvix.Close, 'o')\n",
    "plt.plot(x_coordinates, y_coordinates)\n",
    "plt.xlabel('Days 0-253')\n",
    "plt.ylabel('Below opening   /   Above opening')\n",
    "plt.title('Price point Open/Close Difference')\n",
    "plt.show()"
   ]
  },
  {
   "cell_type": "markdown",
   "metadata": {},
   "source": [
    "#The Orange line is the opening market price which is set to \"0\". Any point above this closed above the opening price. \n",
    "Any point below this line closed below opening price. "
   ]
  }
 ],
 "metadata": {
  "kernelspec": {
   "display_name": "Python 3",
   "language": "python",
   "name": "python3"
  },
  "language_info": {
   "codemirror_mode": {
    "name": "ipython",
    "version": 3
   },
   "file_extension": ".py",
   "mimetype": "text/x-python",
   "name": "python",
   "nbconvert_exporter": "python",
   "pygments_lexer": "ipython3",
   "version": "3.7.6"
  }
 },
 "nbformat": 4,
 "nbformat_minor": 4
}
